{
 "cells": [
  {
   "cell_type": "code",
   "execution_count": null,
   "id": "33bc5fc7-96fb-4b09-a249-9e319136bfec",
   "metadata": {},
   "outputs": [],
   "source": []
  }
 ],
 "metadata": {
  "kernelspec": {
   "display_name": "",
   "name": ""
  },
  "language_info": {
   "name": ""
  }
 },
 "nbformat": 4,
 "nbformat_minor": 5
}
