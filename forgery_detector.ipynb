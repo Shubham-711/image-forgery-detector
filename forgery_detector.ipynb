{
 "cells": [
  {
   "cell_type": "code",
   "execution_count": 1,
   "id": "05c86cde",
   "metadata": {},
   "outputs": [
    {
     "name": "stdout",
     "output_type": "stream",
     "text": [
      "Python 3.11.5\n"
     ]
    }
   ],
   "source": [
    "!python --version"
   ]
  },
  {
   "cell_type": "code",
   "execution_count": 2,
   "id": "4e474ce6",
   "metadata": {},
   "outputs": [],
   "source": [
    "import os\n",
    "import glob\n",
    "import cv2\n",
    "import numpy as np\n",
    "import tensorflow as tf\n",
    "from tqdm.notebook import tqdm # Use tqdm.notebook for Jupyter\n",
    "import matplotlib.pyplot as plt\n",
    "from tensorflow.keras.models import Model\n",
    "from tensorflow.keras.layers import Input, Conv2D, MaxPooling2D, UpSampling2D, concatenate, BatchNormalization\n",
    "from tensorflow.keras.optimizers import Adam\n",
    "from tensorflow.keras.callbacks import ModelCheckpoint\n",
    "from tensorflow.keras.utils import Sequence # Sequence is directly in keras.utils\n",
    "# from tensorflow.keras.utils import * # Avoid star imports if possible\n",
    "import shutil # Import shutil for file copying\n",
    "import random"
   ]
  },
  {
   "cell_type": "code",
   "execution_count": 3,
   "id": "edc69eb1",
   "metadata": {},
   "outputs": [
    {
     "name": "stdout",
     "output_type": "stream",
     "text": [
      "Available GPUs: []\n"
     ]
    }
   ],
   "source": [
    "gpus = tf.config.list_physical_devices('GPU')\n",
    "print(\"Available GPUs:\", gpus)"
   ]
  },
  {
   "cell_type": "code",
   "execution_count": 6,
   "id": "1a066a76",
   "metadata": {},
   "outputs": [
    {
     "name": "stdout",
     "output_type": "stream",
     "text": [
      "Dataset directories ensured/created in: 'dataset'\n",
      "Source directory set to: 'C:\\Users\\Shubham Kumavat\\Downloads\\archive\\CoMoFoD_small_v2'\n"
     ]
    }
   ],
   "source": [
    "# --- IMPORTANT: Set the correct path to your downloaded dataset ---\n",
    "SOURCE_DATA_DIR = r\"C:\\Users\\Shubham Kumavat\\Downloads\\archive\\CoMoFoD_small_v2\"\n",
    "# ------------------------------------------------------------------\n",
    "\n",
    "DEST_BASE_DIR = \"dataset\"\n",
    "DEST_IMAGES_DIR = os.path.join(DEST_BASE_DIR, \"images\")\n",
    "DEST_LABELS_DIR = os.path.join(DEST_BASE_DIR, \"labels\")\n",
    "DEST_MASKS_DIR = os.path.join(DEST_BASE_DIR, \"masks\")\n",
    "\n",
    "# Create destination directories if they don't exist\n",
    "os.makedirs(DEST_LABELS_DIR, exist_ok=True)\n",
    "os.makedirs(DEST_IMAGES_DIR, exist_ok=True)\n",
    "os.makedirs(DEST_MASKS_DIR, exist_ok=True)\n",
    "\n",
    "print(f\"Dataset directories ensured/created in: '{DEST_BASE_DIR}'\")\n",
    "print(f\"Source directory set to: '{SOURCE_DATA_DIR}'\")"
   ]
  },
  {
   "cell_type": "code",
   "execution_count": 7,
   "id": "7103a675",
   "metadata": {},
   "outputs": [
    {
     "name": "stderr",
     "output_type": "stream",
     "text": [
      "Exception ignored in: <function tqdm.__del__ at 0x0000025387A07400>\n",
      "Traceback (most recent call last):\n",
      "  File \"C:\\Users\\Shubham Kumavat\\venv-py310-tf\\lib\\site-packages\\tqdm\\std.py\", line 1148, in __del__\n",
      "    self.close()\n",
      "  File \"C:\\Users\\Shubham Kumavat\\venv-py310-tf\\lib\\site-packages\\tqdm\\notebook.py\", line 279, in close\n",
      "    self.disp(bar_style='danger', check_delay=False)\n",
      "AttributeError: 'tqdm_notebook' object has no attribute 'disp'\n"
     ]
    },
    {
     "name": "stdout",
     "output_type": "stream",
     "text": [
      "Found 10402 files/folders in source directory: 'C:\\Users\\Shubham Kumavat\\Downloads\\archive\\CoMoFoD_small_v2'\n",
      "\n",
      "Copying files (this might take a moment)...\n",
      "An error occurred during dataset preparation: IProgress not found. Please update jupyter and ipywidgets. See https://ipywidgets.readthedocs.io/en/stable/user_install.html\n"
     ]
    }
   ],
   "source": [
    "try:\n",
    "    source_images = os.listdir(SOURCE_DATA_DIR)\n",
    "    print(f\"Found {len(source_images)} files/folders in source directory: '{SOURCE_DATA_DIR}'\")\n",
    "\n",
    "    print(\"\\nCopying files (this might take a moment)...\")\n",
    "    # Copying loop using shutil (safer and platform-independent)\n",
    "    copied_counts = {'labels': 0, 'masks': 0, 'images': 0, 'skipped': 0, 'errors': 0}\n",
    "\n",
    "    for image_filename in tqdm(source_images):\n",
    "        source_path = os.path.join(SOURCE_DATA_DIR, image_filename)\n",
    "\n",
    "        # Skip if it's not a file (e.g., a sub-directory) or doesn't exist\n",
    "        if not os.path.isfile(source_path):\n",
    "            print(f\"Skipping non-file item: {image_filename}\")\n",
    "            copied_counts['skipped'] += 1\n",
    "            continue\n",
    "\n",
    "        try:\n",
    "            # Determine destination based on filename structure\n",
    "            parts = image_filename.split('_')\n",
    "            copied = False\n",
    "            if len(parts) == 2:\n",
    "                if \"B.\" in image_filename: # More specific check for label mask\n",
    "                    shutil.copy(source_path, DEST_LABELS_DIR)\n",
    "                    copied_counts['labels'] += 1\n",
    "                    copied = True\n",
    "                elif \"M.\" in image_filename: # More specific check for cropped mask\n",
    "                    shutil.copy(source_path, DEST_MASKS_DIR)\n",
    "                    copied_counts['masks'] += 1\n",
    "                    copied = True\n",
    "            elif len(parts) > 2:\n",
    "                 # Assuming 'F' (forged) and 'O' (original?) go to images\n",
    "                if \"_F_\" in image_filename or \"_O_\" in image_filename:\n",
    "                     shutil.copy(source_path, DEST_IMAGES_DIR)\n",
    "                     copied_counts['images'] += 1\n",
    "                     copied = True\n",
    "\n",
    "            if not copied:\n",
    "                 #print(f\"Skipping file (doesn't match naming convention): {image_filename}\")\n",
    "                 copied_counts['skipped'] += 1\n",
    "\n",
    "\n",
    "        except Exception as e:\n",
    "            print(f\"ERROR copying {source_path}: {e}\")\n",
    "            copied_counts['errors'] += 1\n",
    "\n",
    "    # Verification - Count files in destination directories\n",
    "    print(\"\\n--- Dataset Preparation Complete ---\")\n",
    "    print(f\"Total Labels copied: {copied_counts['labels']} (Actual files: {len(os.listdir(DEST_LABELS_DIR))})\")\n",
    "    print(f\"Total Masks copied: {copied_counts['masks']} (Actual files: {len(os.listdir(DEST_MASKS_DIR))})\")\n",
    "    print(f\"Total Forged/Original Images copied: {copied_counts['images']} (Actual files: {len(os.listdir(DEST_IMAGES_DIR))})\")\n",
    "    print(f\"Files skipped: {copied_counts['skipped']}\")\n",
    "    print(f\"Errors during copy: {copied_counts['errors']}\")\n",
    "\n",
    "\n",
    "except FileNotFoundError:\n",
    "     print(f\"ERROR: Source directory not found: '{SOURCE_DATA_DIR}'\")\n",
    "     print(\"Please ensure the path in Cell 3 is correct and the data exists.\")\n",
    "except Exception as e:\n",
    "     print(f\"An error occurred during dataset preparation: {e}\")"
   ]
  },
  {
   "cell_type": "code",
   "execution_count": null,
   "id": "702e247c",
   "metadata": {},
   "outputs": [],
   "source": []
  }
 ],
 "metadata": {
  "kernelspec": {
   "display_name": "Python 3.10 (TF Forgery)",
   "language": "python",
   "name": "venv-py310-tf"
  },
  "language_info": {
   "codemirror_mode": {
    "name": "ipython",
    "version": 3
   },
   "file_extension": ".py",
   "mimetype": "text/x-python",
   "name": "python",
   "nbconvert_exporter": "python",
   "pygments_lexer": "ipython3",
   "version": "3.10.11"
  }
 },
 "nbformat": 4,
 "nbformat_minor": 5
}
